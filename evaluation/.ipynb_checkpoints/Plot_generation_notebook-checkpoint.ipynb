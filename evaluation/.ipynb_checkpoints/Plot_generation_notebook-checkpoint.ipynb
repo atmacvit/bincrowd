{
 "cells": [
  {
   "cell_type": "code",
   "execution_count": 42,
   "metadata": {},
   "outputs": [],
   "source": [
    "\n",
    "import plotly.graph_objects as go\n",
    "import numpy as np\n",
    "import math\n",
    "\n",
    "# format of the columns in file name_of_image,error(l1),target,predicted\n",
    "\n",
    "err_paths= ['nwpu_unbinned.txt','nwpu_rr.txt','nwpu_rs.txt']\n",
    "bins = [0.0, 0.5, 2.5, 5.5, 10.5, 18.5, 31.5, 53.5, 90.5, 152.5, 256.5, 429.5, 717.5, 1197.5, 1997.5, 3330.5, 5552.5, 9255.5, 15426.0]\n",
    "\n",
    "\n",
    "path = err_paths[0]\n",
    "f = open(path, \"r\")\n",
    "ub =[]\n",
    "for x in f:\n",
    "    x=x.replace('\\n','').split(',')\n",
    "    x =[float(i) for i in x]\n",
    "    ub.append(x)\n",
    "\n",
    "path = err_paths[1]\n",
    "f = open(path, \"r\")\n",
    "rr =[]\n",
    "for x in f:\n",
    "    x=x.replace('\\n','').split(',')\n",
    "    x =[float(i) for i in x]\n",
    "    rr.append(x)\n",
    "\n",
    "\n",
    "path = err_paths[2]\n",
    "f = open(path, \"r\")\n",
    "rs =[]\n",
    "for x in f:\n",
    "    x=x.replace('\\n','').split(',')\n",
    "    x =[float(i) for i in x]\n",
    "    rs.append(x)\n",
    "\n",
    "\n",
    "rr = np.asarray(rr)\n",
    "rs = np.asarray(rs)\n",
    "ub = np.asarray(ub)\n",
    "  \n",
    "\n",
    "def make_bins(bins):\n",
    "    fin =[]\n",
    "    for i in range(len(bins)-1):\n",
    "        fin.append(\"(\"+str(bins[i])+\" , \"+str(bins[i+1])+\")\")\n",
    "    return fin\n",
    "\n",
    "def mean_bins(dm,bins):\n",
    "    new =[]\n",
    "    mean_std = []\n",
    "    for i in range(len(bins)):\n",
    "      \n",
    "      if i ==0:\n",
    "\n",
    "        mask = np.logical_and(dm[:,2]>=bins[i],dm[:,2] <=bins[i+1])\n",
    "        mae = np.mean(np.asarray(tub_loss(dm[mask])))\n",
    "        std = np.std(np.asarray(tub_loss(dm[mask])))\n",
    "        mean_std.append([round(mae,3),round(std,3)])\n",
    "\n",
    "      elif i< len(bins)-1:\n",
    "\n",
    "        mask = np.logical_and(dm[:,2]>bins[i],dm[:,2] <=bins[i+1])\n",
    "        mae = np.mean(np.asarray(tub_loss(dm[mask])))\n",
    "        std = np.std(np.asarray(tub_loss(dm[mask])))\n",
    "        mean_std.append([round(mae,3),round(std,3)])\n",
    "      new.append(sum(mask))\n",
    "\n",
    "    mean_std = np.asarray(mean_std)\n",
    "\n",
    "    return mean_std\n",
    "\n",
    "def tub_loss(dm):\n",
    "  res =[]\n",
    "  for i in dm:\n",
    "    temp = i[2]-i[1]\n",
    "    res.append(abs(i[1]))\n",
    "  return res\n",
    "\n",
    "\n",
    "def counts_in_bins(dm,bins):\n",
    "    new =[]\n",
    "    for i in range(len(bins)-1):\n",
    "        if i ==0:\n",
    "            mask = np.logical_and(dm[:,2]>=bins[i],dm[:,2] <=bins[i+1])\n",
    "        elif i< len(bins)-1:\n",
    "            mask = np.logical_and(dm[:,2]>bins[i],dm[:,2] <=bins[i+1])\n",
    "            \n",
    "        new.append(sum(mask))\n",
    "    return new\n",
    "\n",
    "\n",
    "\n",
    "ranges = make_bins(bins)\n",
    "x_ax = np.linspace(0,len(bins),num = len(bins)+1)\n",
    "unbinned = mean_bins(ub,bins)\n",
    "counts= counts_in_bins(ub,bins)\n",
    "\n",
    "\n",
    "def nonzero_bins(ranges,counts):\n",
    "  modif_counts =counts.copy()\n",
    "  modif_ranges = ranges.copy()\n",
    "  to_keep = []\n",
    "  m_r = []\n",
    "  m_c = []\n",
    "  for i in range(len(counts)-1):\n",
    "    if i==len(counts)-1 and counts[i] == 0:\n",
    "      break\n",
    "    curr_range =  modif_ranges[i].replace(\"(\",\"\").replace(\")\",\"\").replace(\" \",\"\").split(\",\")\n",
    "    next_range = modif_ranges[i+1].replace(\"(\",\"\").replace(\")\",\"\").replace(\" \",\"\").split(\",\")\n",
    "    \n",
    "    if counts[i] == 0:\n",
    "      \n",
    "      f = modif_ranges[i+1]\n",
    "      a = next_range[0]\n",
    "      b = curr_range[0]\n",
    "     \n",
    "      modif_ranges[i+1] = f.replace(a,b) \n",
    "    else:\n",
    "        to_keep.append(i)\n",
    "  if counts[-1] != 0:\n",
    "    to_keep.append(len(counts)-1)\n",
    "  for x in to_keep:\n",
    "    m_r.append(modif_ranges[x])\n",
    "    m_c.append(modif_counts[x])\n",
    "\n",
    "  return to_keep,m_c,m_r\n",
    "\n",
    "to_keep,m_c,m_r = nonzero_bins(ranges,counts)\n",
    "\n",
    "def human_format(num, round_to=2):\n",
    "    magnitude = 0\n",
    "    while abs(num) >= 1000:\n",
    "        magnitude += 1\n",
    "        num = round(num / 1000.0, round_to)\n",
    "    return '{:.{}f}{}'.format(round(num, round_to), round_to, ['', 'K', 'M', 'G', 'T', 'P'][magnitude])\n",
    "\n",
    "\n",
    "def arr_to_sc(m_r):\n",
    "    mm_r =[]\n",
    "    #   seen =[]\n",
    "    all_s =[]\n",
    "    for i in range(len(m_r)):\n",
    "        row = m_r[i]\n",
    "        split = row.replace(\"(\",\"\").replace(\")\",\"\").split(\",\")\n",
    "        split[0] = float(split[0])\n",
    "        split[1] = float(split[1])\n",
    "\n",
    "        s = split[0]\n",
    "        r = split[1]\n",
    "\n",
    "        s = float(s)+0.1\n",
    "        s = round(s,0)\n",
    "        s = int(s)\n",
    "\n",
    "        r =  float(r)-0.1\n",
    "        r = round(r,0)\n",
    "        r = int(r)\n",
    "\n",
    "        s = human_format(s, round_to=1)\n",
    "        r = human_format(r, round_to=1)\n",
    "        if \"K\" not in s:\n",
    "            s = int(float(s))\n",
    "        if \"K\" not in r:\n",
    "            r = int(float(r))\n",
    "\n",
    "\n",
    "        t = \"(\"+str(s)+\" , \"+str(r)+\")\"\n",
    "        # print(t)\n",
    "        mm_r.append(t)\n",
    "        all_s.append(s)\n",
    "\n",
    "  \n",
    "    return mm_r\n"
   ]
  },
  {
   "cell_type": "code",
   "execution_count": 43,
   "metadata": {},
   "outputs": [
    {
     "data": {
      "application/vnd.plotly.v1+json": {
       "config": {
        "plotlyServerURL": "https://plot.ly"
       },
       "data": [
        {
         "error_y": {
          "array": [
           78.75,
           0,
           60.63,
           1.865,
           109.043,
           3.402,
           5.61,
           11.797,
           20.597,
           58.217,
           56.489,
           51.597,
           154.578,
           132.118,
           146.738,
           91.139,
           750.193,
           3090.938
          ],
          "type": "data",
          "visible": true
         },
         "mode": "markers",
         "name": "No-binning",
         "type": "scatter",
         "x": [
          "(0 , 0)",
          "(1 , 2)",
          "(3 , 5)",
          "(6 , 10)",
          "(11 , 18)",
          "(19 , 31)",
          "(32 , 53)",
          "(54 , 90)",
          "(91 , 152)",
          "(153 , 256)",
          "(257 , 429)",
          "(430 , 717)",
          "(718 , 1.2K)",
          "(1.2K , 2.0K)",
          "(2.0K , 3.3K)",
          "(3.3K , 5.6K)",
          "(5.6K , 9.3K)",
          "(9.3K , 15.4K)"
         ],
         "y": [
          38.284,
          0.1,
          38.1,
          2.707,
          30.061,
          3.424,
          6.311,
          10.013,
          16.595,
          31.618,
          54.053,
          69.474,
          165.142,
          215.853,
          354.793,
          502.098,
          1220.637,
          4922.327
         ]
        },
        {
         "error_y": {
          "array": [
           111.1,
           0,
           94.378,
           1.566,
           9.666,
           2.845,
           9.229,
           18.133,
           26.364,
           66.934,
           48.356,
           50.462,
           139.52,
           150.918,
           242.799,
           111.477,
           874.78,
           3405.064
          ],
          "type": "data",
          "visible": true
         },
         "mode": "markers",
         "name": "Bin Loss",
         "type": "scatter",
         "x": [
          "(0 , 0)",
          "(1 , 2)",
          "(3 , 5)",
          "(6 , 10)",
          "(11 , 18)",
          "(19 , 31)",
          "(32 , 53)",
          "(54 , 90)",
          "(91 , 152)",
          "(153 , 256)",
          "(257 , 429)",
          "(430 , 717)",
          "(718 , 1.2K)",
          "(1.2K , 2.0K)",
          "(2.0K , 3.3K)",
          "(3.3K , 5.6K)",
          "(5.6K , 9.3K)",
          "(9.3K , 15.4K)"
         ],
         "y": [
          60.772,
          0.136,
          61.123,
          4.018,
          6.855,
          3.691,
          9.869,
          16.936,
          20.933,
          38.223,
          48.044,
          68.495,
          125.386,
          181.057,
          398.748,
          368.186,
          1913.192,
          6749.723
         ]
        },
        {
         "error_y": {
          "array": [
           59.887,
           0,
           64.002,
           2.283,
           11.644,
           3.105,
           5.978,
           12.424,
           19.39,
           53.365,
           44.01,
           51.432,
           138.704,
           187.039,
           252.64,
           184.509,
           762.514,
           2910.446
          ],
          "type": "data",
          "visible": true
         },
         "mode": "markers",
         "name": "Bin Loss (RR)",
         "type": "scatter",
         "x": [
          "(0 , 0)",
          "(1 , 2)",
          "(3 , 5)",
          "(6 , 10)",
          "(11 , 18)",
          "(19 , 31)",
          "(32 , 53)",
          "(54 , 90)",
          "(91 , 152)",
          "(153 , 256)",
          "(257 , 429)",
          "(430 , 717)",
          "(718 , 1.2K)",
          "(1.2K , 2.0K)",
          "(2.0K , 3.3K)",
          "(3.3K , 5.6K)",
          "(5.6K , 9.3K)",
          "(9.3K , 15.4K)"
         ],
         "y": [
          29.859,
          0.223,
          41.271,
          4.685,
          5.907,
          3.373,
          6.827,
          11.228,
          16.755,
          30.702,
          45.059,
          65.631,
          126.273,
          190.398,
          401.994,
          262.58,
          1670.83,
          5760.124
         ]
        }
       ],
       "layout": {
        "font": {
         "size": 15
        },
        "legend": {
         "x": 0.01,
         "xanchor": "left",
         "y": 0.99,
         "yanchor": "top"
        },
        "margin": {
         "b": 20,
         "l": 20,
         "r": 20,
         "t": 40
        },
        "plot_bgcolor": "rgba(0,0,0,0)",
        "template": {
         "data": {
          "bar": [
           {
            "error_x": {
             "color": "#2a3f5f"
            },
            "error_y": {
             "color": "#2a3f5f"
            },
            "marker": {
             "line": {
              "color": "#E5ECF6",
              "width": 0.5
             }
            },
            "type": "bar"
           }
          ],
          "barpolar": [
           {
            "marker": {
             "line": {
              "color": "#E5ECF6",
              "width": 0.5
             }
            },
            "type": "barpolar"
           }
          ],
          "carpet": [
           {
            "aaxis": {
             "endlinecolor": "#2a3f5f",
             "gridcolor": "white",
             "linecolor": "white",
             "minorgridcolor": "white",
             "startlinecolor": "#2a3f5f"
            },
            "baxis": {
             "endlinecolor": "#2a3f5f",
             "gridcolor": "white",
             "linecolor": "white",
             "minorgridcolor": "white",
             "startlinecolor": "#2a3f5f"
            },
            "type": "carpet"
           }
          ],
          "choropleth": [
           {
            "colorbar": {
             "outlinewidth": 0,
             "ticks": ""
            },
            "type": "choropleth"
           }
          ],
          "contour": [
           {
            "colorbar": {
             "outlinewidth": 0,
             "ticks": ""
            },
            "colorscale": [
             [
              0,
              "#0d0887"
             ],
             [
              0.1111111111111111,
              "#46039f"
             ],
             [
              0.2222222222222222,
              "#7201a8"
             ],
             [
              0.3333333333333333,
              "#9c179e"
             ],
             [
              0.4444444444444444,
              "#bd3786"
             ],
             [
              0.5555555555555556,
              "#d8576b"
             ],
             [
              0.6666666666666666,
              "#ed7953"
             ],
             [
              0.7777777777777778,
              "#fb9f3a"
             ],
             [
              0.8888888888888888,
              "#fdca26"
             ],
             [
              1,
              "#f0f921"
             ]
            ],
            "type": "contour"
           }
          ],
          "contourcarpet": [
           {
            "colorbar": {
             "outlinewidth": 0,
             "ticks": ""
            },
            "type": "contourcarpet"
           }
          ],
          "heatmap": [
           {
            "colorbar": {
             "outlinewidth": 0,
             "ticks": ""
            },
            "colorscale": [
             [
              0,
              "#0d0887"
             ],
             [
              0.1111111111111111,
              "#46039f"
             ],
             [
              0.2222222222222222,
              "#7201a8"
             ],
             [
              0.3333333333333333,
              "#9c179e"
             ],
             [
              0.4444444444444444,
              "#bd3786"
             ],
             [
              0.5555555555555556,
              "#d8576b"
             ],
             [
              0.6666666666666666,
              "#ed7953"
             ],
             [
              0.7777777777777778,
              "#fb9f3a"
             ],
             [
              0.8888888888888888,
              "#fdca26"
             ],
             [
              1,
              "#f0f921"
             ]
            ],
            "type": "heatmap"
           }
          ],
          "heatmapgl": [
           {
            "colorbar": {
             "outlinewidth": 0,
             "ticks": ""
            },
            "colorscale": [
             [
              0,
              "#0d0887"
             ],
             [
              0.1111111111111111,
              "#46039f"
             ],
             [
              0.2222222222222222,
              "#7201a8"
             ],
             [
              0.3333333333333333,
              "#9c179e"
             ],
             [
              0.4444444444444444,
              "#bd3786"
             ],
             [
              0.5555555555555556,
              "#d8576b"
             ],
             [
              0.6666666666666666,
              "#ed7953"
             ],
             [
              0.7777777777777778,
              "#fb9f3a"
             ],
             [
              0.8888888888888888,
              "#fdca26"
             ],
             [
              1,
              "#f0f921"
             ]
            ],
            "type": "heatmapgl"
           }
          ],
          "histogram": [
           {
            "marker": {
             "colorbar": {
              "outlinewidth": 0,
              "ticks": ""
             }
            },
            "type": "histogram"
           }
          ],
          "histogram2d": [
           {
            "colorbar": {
             "outlinewidth": 0,
             "ticks": ""
            },
            "colorscale": [
             [
              0,
              "#0d0887"
             ],
             [
              0.1111111111111111,
              "#46039f"
             ],
             [
              0.2222222222222222,
              "#7201a8"
             ],
             [
              0.3333333333333333,
              "#9c179e"
             ],
             [
              0.4444444444444444,
              "#bd3786"
             ],
             [
              0.5555555555555556,
              "#d8576b"
             ],
             [
              0.6666666666666666,
              "#ed7953"
             ],
             [
              0.7777777777777778,
              "#fb9f3a"
             ],
             [
              0.8888888888888888,
              "#fdca26"
             ],
             [
              1,
              "#f0f921"
             ]
            ],
            "type": "histogram2d"
           }
          ],
          "histogram2dcontour": [
           {
            "colorbar": {
             "outlinewidth": 0,
             "ticks": ""
            },
            "colorscale": [
             [
              0,
              "#0d0887"
             ],
             [
              0.1111111111111111,
              "#46039f"
             ],
             [
              0.2222222222222222,
              "#7201a8"
             ],
             [
              0.3333333333333333,
              "#9c179e"
             ],
             [
              0.4444444444444444,
              "#bd3786"
             ],
             [
              0.5555555555555556,
              "#d8576b"
             ],
             [
              0.6666666666666666,
              "#ed7953"
             ],
             [
              0.7777777777777778,
              "#fb9f3a"
             ],
             [
              0.8888888888888888,
              "#fdca26"
             ],
             [
              1,
              "#f0f921"
             ]
            ],
            "type": "histogram2dcontour"
           }
          ],
          "mesh3d": [
           {
            "colorbar": {
             "outlinewidth": 0,
             "ticks": ""
            },
            "type": "mesh3d"
           }
          ],
          "parcoords": [
           {
            "line": {
             "colorbar": {
              "outlinewidth": 0,
              "ticks": ""
             }
            },
            "type": "parcoords"
           }
          ],
          "pie": [
           {
            "automargin": true,
            "type": "pie"
           }
          ],
          "scatter": [
           {
            "marker": {
             "colorbar": {
              "outlinewidth": 0,
              "ticks": ""
             }
            },
            "type": "scatter"
           }
          ],
          "scatter3d": [
           {
            "line": {
             "colorbar": {
              "outlinewidth": 0,
              "ticks": ""
             }
            },
            "marker": {
             "colorbar": {
              "outlinewidth": 0,
              "ticks": ""
             }
            },
            "type": "scatter3d"
           }
          ],
          "scattercarpet": [
           {
            "marker": {
             "colorbar": {
              "outlinewidth": 0,
              "ticks": ""
             }
            },
            "type": "scattercarpet"
           }
          ],
          "scattergeo": [
           {
            "marker": {
             "colorbar": {
              "outlinewidth": 0,
              "ticks": ""
             }
            },
            "type": "scattergeo"
           }
          ],
          "scattergl": [
           {
            "marker": {
             "colorbar": {
              "outlinewidth": 0,
              "ticks": ""
             }
            },
            "type": "scattergl"
           }
          ],
          "scattermapbox": [
           {
            "marker": {
             "colorbar": {
              "outlinewidth": 0,
              "ticks": ""
             }
            },
            "type": "scattermapbox"
           }
          ],
          "scatterpolar": [
           {
            "marker": {
             "colorbar": {
              "outlinewidth": 0,
              "ticks": ""
             }
            },
            "type": "scatterpolar"
           }
          ],
          "scatterpolargl": [
           {
            "marker": {
             "colorbar": {
              "outlinewidth": 0,
              "ticks": ""
             }
            },
            "type": "scatterpolargl"
           }
          ],
          "scatterternary": [
           {
            "marker": {
             "colorbar": {
              "outlinewidth": 0,
              "ticks": ""
             }
            },
            "type": "scatterternary"
           }
          ],
          "surface": [
           {
            "colorbar": {
             "outlinewidth": 0,
             "ticks": ""
            },
            "colorscale": [
             [
              0,
              "#0d0887"
             ],
             [
              0.1111111111111111,
              "#46039f"
             ],
             [
              0.2222222222222222,
              "#7201a8"
             ],
             [
              0.3333333333333333,
              "#9c179e"
             ],
             [
              0.4444444444444444,
              "#bd3786"
             ],
             [
              0.5555555555555556,
              "#d8576b"
             ],
             [
              0.6666666666666666,
              "#ed7953"
             ],
             [
              0.7777777777777778,
              "#fb9f3a"
             ],
             [
              0.8888888888888888,
              "#fdca26"
             ],
             [
              1,
              "#f0f921"
             ]
            ],
            "type": "surface"
           }
          ],
          "table": [
           {
            "cells": {
             "fill": {
              "color": "#EBF0F8"
             },
             "line": {
              "color": "white"
             }
            },
            "header": {
             "fill": {
              "color": "#C8D4E3"
             },
             "line": {
              "color": "white"
             }
            },
            "type": "table"
           }
          ]
         },
         "layout": {
          "annotationdefaults": {
           "arrowcolor": "#2a3f5f",
           "arrowhead": 0,
           "arrowwidth": 1
          },
          "autotypenumbers": "strict",
          "coloraxis": {
           "colorbar": {
            "outlinewidth": 0,
            "ticks": ""
           }
          },
          "colorscale": {
           "diverging": [
            [
             0,
             "#8e0152"
            ],
            [
             0.1,
             "#c51b7d"
            ],
            [
             0.2,
             "#de77ae"
            ],
            [
             0.3,
             "#f1b6da"
            ],
            [
             0.4,
             "#fde0ef"
            ],
            [
             0.5,
             "#f7f7f7"
            ],
            [
             0.6,
             "#e6f5d0"
            ],
            [
             0.7,
             "#b8e186"
            ],
            [
             0.8,
             "#7fbc41"
            ],
            [
             0.9,
             "#4d9221"
            ],
            [
             1,
             "#276419"
            ]
           ],
           "sequential": [
            [
             0,
             "#0d0887"
            ],
            [
             0.1111111111111111,
             "#46039f"
            ],
            [
             0.2222222222222222,
             "#7201a8"
            ],
            [
             0.3333333333333333,
             "#9c179e"
            ],
            [
             0.4444444444444444,
             "#bd3786"
            ],
            [
             0.5555555555555556,
             "#d8576b"
            ],
            [
             0.6666666666666666,
             "#ed7953"
            ],
            [
             0.7777777777777778,
             "#fb9f3a"
            ],
            [
             0.8888888888888888,
             "#fdca26"
            ],
            [
             1,
             "#f0f921"
            ]
           ],
           "sequentialminus": [
            [
             0,
             "#0d0887"
            ],
            [
             0.1111111111111111,
             "#46039f"
            ],
            [
             0.2222222222222222,
             "#7201a8"
            ],
            [
             0.3333333333333333,
             "#9c179e"
            ],
            [
             0.4444444444444444,
             "#bd3786"
            ],
            [
             0.5555555555555556,
             "#d8576b"
            ],
            [
             0.6666666666666666,
             "#ed7953"
            ],
            [
             0.7777777777777778,
             "#fb9f3a"
            ],
            [
             0.8888888888888888,
             "#fdca26"
            ],
            [
             1,
             "#f0f921"
            ]
           ]
          },
          "colorway": [
           "#636efa",
           "#EF553B",
           "#00cc96",
           "#ab63fa",
           "#FFA15A",
           "#19d3f3",
           "#FF6692",
           "#B6E880",
           "#FF97FF",
           "#FECB52"
          ],
          "font": {
           "color": "#2a3f5f"
          },
          "geo": {
           "bgcolor": "white",
           "lakecolor": "white",
           "landcolor": "#E5ECF6",
           "showlakes": true,
           "showland": true,
           "subunitcolor": "white"
          },
          "hoverlabel": {
           "align": "left"
          },
          "hovermode": "closest",
          "mapbox": {
           "style": "light"
          },
          "paper_bgcolor": "white",
          "plot_bgcolor": "#E5ECF6",
          "polar": {
           "angularaxis": {
            "gridcolor": "white",
            "linecolor": "white",
            "ticks": ""
           },
           "bgcolor": "#E5ECF6",
           "radialaxis": {
            "gridcolor": "white",
            "linecolor": "white",
            "ticks": ""
           }
          },
          "scene": {
           "xaxis": {
            "backgroundcolor": "#E5ECF6",
            "gridcolor": "white",
            "gridwidth": 2,
            "linecolor": "white",
            "showbackground": true,
            "ticks": "",
            "zerolinecolor": "white"
           },
           "yaxis": {
            "backgroundcolor": "#E5ECF6",
            "gridcolor": "white",
            "gridwidth": 2,
            "linecolor": "white",
            "showbackground": true,
            "ticks": "",
            "zerolinecolor": "white"
           },
           "zaxis": {
            "backgroundcolor": "#E5ECF6",
            "gridcolor": "white",
            "gridwidth": 2,
            "linecolor": "white",
            "showbackground": true,
            "ticks": "",
            "zerolinecolor": "white"
           }
          },
          "shapedefaults": {
           "line": {
            "color": "#2a3f5f"
           }
          },
          "ternary": {
           "aaxis": {
            "gridcolor": "white",
            "linecolor": "white",
            "ticks": ""
           },
           "baxis": {
            "gridcolor": "white",
            "linecolor": "white",
            "ticks": ""
           },
           "bgcolor": "#E5ECF6",
           "caxis": {
            "gridcolor": "white",
            "linecolor": "white",
            "ticks": ""
           }
          },
          "title": {
           "x": 0.05
          },
          "xaxis": {
           "automargin": true,
           "gridcolor": "white",
           "linecolor": "white",
           "ticks": "",
           "title": {
            "standoff": 15
           },
           "zerolinecolor": "white",
           "zerolinewidth": 2
          },
          "yaxis": {
           "automargin": true,
           "gridcolor": "white",
           "linecolor": "white",
           "ticks": "",
           "title": {
            "standoff": 15
           },
           "zerolinecolor": "white",
           "zerolinewidth": 2
          }
         }
        },
        "title": {
         "text": "Per-bin performance of DM Count on NWPU dataset"
        },
        "xaxis": {
         "showgrid": true,
         "tickangle": 40,
         "title": {
          "text": "bin range"
         }
        },
        "yaxis": {
         "gridcolor": "rgb(211,211,211)",
         "showgrid": true,
         "title": {
          "text": "Bin wise MAE"
         }
        }
       }
      },
      "text/html": [
       "<div>                            <div id=\"a20761d1-08ee-42f2-b3a4-5e7b08fa3029\" class=\"plotly-graph-div\" style=\"height:525px; width:100%;\"></div>            <script type=\"text/javascript\">                require([\"plotly\"], function(Plotly) {                    window.PLOTLYENV=window.PLOTLYENV || {};                                    if (document.getElementById(\"a20761d1-08ee-42f2-b3a4-5e7b08fa3029\")) {                    Plotly.newPlot(                        \"a20761d1-08ee-42f2-b3a4-5e7b08fa3029\",                        [{\"error_y\": {\"array\": [78.75, 0.0, 60.63, 1.865, 109.043, 3.402, 5.61, 11.797, 20.597, 58.217, 56.489, 51.597, 154.578, 132.118, 146.738, 91.139, 750.193, 3090.938], \"type\": \"data\", \"visible\": true}, \"mode\": \"markers\", \"name\": \"No-binning\", \"type\": \"scatter\", \"x\": [\"(0 , 0)\", \"(1 , 2)\", \"(3 , 5)\", \"(6 , 10)\", \"(11 , 18)\", \"(19 , 31)\", \"(32 , 53)\", \"(54 , 90)\", \"(91 , 152)\", \"(153 , 256)\", \"(257 , 429)\", \"(430 , 717)\", \"(718 , 1.2K)\", \"(1.2K , 2.0K)\", \"(2.0K , 3.3K)\", \"(3.3K , 5.6K)\", \"(5.6K , 9.3K)\", \"(9.3K , 15.4K)\"], \"y\": [38.284, 0.1, 38.1, 2.707, 30.061, 3.424, 6.311, 10.013, 16.595, 31.618, 54.053, 69.474, 165.142, 215.853, 354.793, 502.098, 1220.637, 4922.327]}, {\"error_y\": {\"array\": [111.1, 0.0, 94.378, 1.566, 9.666, 2.845, 9.229, 18.133, 26.364, 66.934, 48.356, 50.462, 139.52, 150.918, 242.799, 111.477, 874.78, 3405.064], \"type\": \"data\", \"visible\": true}, \"mode\": \"markers\", \"name\": \"Bin Loss\", \"type\": \"scatter\", \"x\": [\"(0 , 0)\", \"(1 , 2)\", \"(3 , 5)\", \"(6 , 10)\", \"(11 , 18)\", \"(19 , 31)\", \"(32 , 53)\", \"(54 , 90)\", \"(91 , 152)\", \"(153 , 256)\", \"(257 , 429)\", \"(430 , 717)\", \"(718 , 1.2K)\", \"(1.2K , 2.0K)\", \"(2.0K , 3.3K)\", \"(3.3K , 5.6K)\", \"(5.6K , 9.3K)\", \"(9.3K , 15.4K)\"], \"y\": [60.772, 0.136, 61.123, 4.018, 6.855, 3.691, 9.869, 16.936, 20.933, 38.223, 48.044, 68.495, 125.386, 181.057, 398.748, 368.186, 1913.192, 6749.723]}, {\"error_y\": {\"array\": [59.887, 0.0, 64.002, 2.283, 11.644, 3.105, 5.978, 12.424, 19.39, 53.365, 44.01, 51.432, 138.704, 187.039, 252.64, 184.509, 762.514, 2910.446], \"type\": \"data\", \"visible\": true}, \"mode\": \"markers\", \"name\": \"Bin Loss (RR)\", \"type\": \"scatter\", \"x\": [\"(0 , 0)\", \"(1 , 2)\", \"(3 , 5)\", \"(6 , 10)\", \"(11 , 18)\", \"(19 , 31)\", \"(32 , 53)\", \"(54 , 90)\", \"(91 , 152)\", \"(153 , 256)\", \"(257 , 429)\", \"(430 , 717)\", \"(718 , 1.2K)\", \"(1.2K , 2.0K)\", \"(2.0K , 3.3K)\", \"(3.3K , 5.6K)\", \"(5.6K , 9.3K)\", \"(9.3K , 15.4K)\"], \"y\": [29.859, 0.223, 41.271, 4.685, 5.907, 3.373, 6.827, 11.228, 16.755, 30.702, 45.059, 65.631, 126.273, 190.398, 401.994, 262.58, 1670.83, 5760.124]}],                        {\"font\": {\"size\": 15}, \"legend\": {\"x\": 0.01, \"xanchor\": \"left\", \"y\": 0.99, \"yanchor\": \"top\"}, \"margin\": {\"b\": 20, \"l\": 20, \"r\": 20, \"t\": 40}, \"plot_bgcolor\": \"rgba(0,0,0,0)\", \"template\": {\"data\": {\"bar\": [{\"error_x\": {\"color\": \"#2a3f5f\"}, \"error_y\": {\"color\": \"#2a3f5f\"}, \"marker\": {\"line\": {\"color\": \"#E5ECF6\", \"width\": 0.5}}, \"type\": \"bar\"}], \"barpolar\": [{\"marker\": {\"line\": {\"color\": \"#E5ECF6\", \"width\": 0.5}}, \"type\": \"barpolar\"}], \"carpet\": [{\"aaxis\": {\"endlinecolor\": \"#2a3f5f\", \"gridcolor\": \"white\", \"linecolor\": \"white\", \"minorgridcolor\": \"white\", \"startlinecolor\": \"#2a3f5f\"}, \"baxis\": {\"endlinecolor\": \"#2a3f5f\", \"gridcolor\": \"white\", \"linecolor\": \"white\", \"minorgridcolor\": \"white\", \"startlinecolor\": \"#2a3f5f\"}, \"type\": \"carpet\"}], \"choropleth\": [{\"colorbar\": {\"outlinewidth\": 0, \"ticks\": \"\"}, \"type\": \"choropleth\"}], \"contour\": [{\"colorbar\": {\"outlinewidth\": 0, \"ticks\": \"\"}, \"colorscale\": [[0.0, \"#0d0887\"], [0.1111111111111111, \"#46039f\"], [0.2222222222222222, \"#7201a8\"], [0.3333333333333333, \"#9c179e\"], [0.4444444444444444, \"#bd3786\"], [0.5555555555555556, \"#d8576b\"], [0.6666666666666666, \"#ed7953\"], [0.7777777777777778, \"#fb9f3a\"], [0.8888888888888888, \"#fdca26\"], [1.0, \"#f0f921\"]], \"type\": \"contour\"}], \"contourcarpet\": [{\"colorbar\": {\"outlinewidth\": 0, \"ticks\": \"\"}, \"type\": \"contourcarpet\"}], \"heatmap\": [{\"colorbar\": {\"outlinewidth\": 0, \"ticks\": \"\"}, \"colorscale\": [[0.0, \"#0d0887\"], [0.1111111111111111, \"#46039f\"], [0.2222222222222222, \"#7201a8\"], [0.3333333333333333, \"#9c179e\"], [0.4444444444444444, \"#bd3786\"], [0.5555555555555556, \"#d8576b\"], [0.6666666666666666, \"#ed7953\"], [0.7777777777777778, \"#fb9f3a\"], [0.8888888888888888, \"#fdca26\"], [1.0, \"#f0f921\"]], \"type\": \"heatmap\"}], \"heatmapgl\": [{\"colorbar\": {\"outlinewidth\": 0, \"ticks\": \"\"}, \"colorscale\": [[0.0, \"#0d0887\"], [0.1111111111111111, \"#46039f\"], [0.2222222222222222, \"#7201a8\"], [0.3333333333333333, \"#9c179e\"], [0.4444444444444444, \"#bd3786\"], [0.5555555555555556, \"#d8576b\"], [0.6666666666666666, \"#ed7953\"], [0.7777777777777778, \"#fb9f3a\"], [0.8888888888888888, \"#fdca26\"], [1.0, \"#f0f921\"]], \"type\": \"heatmapgl\"}], \"histogram\": [{\"marker\": {\"colorbar\": {\"outlinewidth\": 0, \"ticks\": \"\"}}, \"type\": \"histogram\"}], \"histogram2d\": [{\"colorbar\": {\"outlinewidth\": 0, \"ticks\": \"\"}, \"colorscale\": [[0.0, \"#0d0887\"], [0.1111111111111111, \"#46039f\"], [0.2222222222222222, \"#7201a8\"], [0.3333333333333333, \"#9c179e\"], [0.4444444444444444, \"#bd3786\"], [0.5555555555555556, \"#d8576b\"], [0.6666666666666666, \"#ed7953\"], [0.7777777777777778, \"#fb9f3a\"], [0.8888888888888888, \"#fdca26\"], [1.0, \"#f0f921\"]], \"type\": \"histogram2d\"}], \"histogram2dcontour\": [{\"colorbar\": {\"outlinewidth\": 0, \"ticks\": \"\"}, \"colorscale\": [[0.0, \"#0d0887\"], [0.1111111111111111, \"#46039f\"], [0.2222222222222222, \"#7201a8\"], [0.3333333333333333, \"#9c179e\"], [0.4444444444444444, \"#bd3786\"], [0.5555555555555556, \"#d8576b\"], [0.6666666666666666, \"#ed7953\"], [0.7777777777777778, \"#fb9f3a\"], [0.8888888888888888, \"#fdca26\"], [1.0, \"#f0f921\"]], \"type\": \"histogram2dcontour\"}], \"mesh3d\": [{\"colorbar\": {\"outlinewidth\": 0, \"ticks\": \"\"}, \"type\": \"mesh3d\"}], \"parcoords\": [{\"line\": {\"colorbar\": {\"outlinewidth\": 0, \"ticks\": \"\"}}, \"type\": \"parcoords\"}], \"pie\": [{\"automargin\": true, \"type\": \"pie\"}], \"scatter\": [{\"marker\": {\"colorbar\": {\"outlinewidth\": 0, \"ticks\": \"\"}}, \"type\": \"scatter\"}], \"scatter3d\": [{\"line\": {\"colorbar\": {\"outlinewidth\": 0, \"ticks\": \"\"}}, \"marker\": {\"colorbar\": {\"outlinewidth\": 0, \"ticks\": \"\"}}, \"type\": \"scatter3d\"}], \"scattercarpet\": [{\"marker\": {\"colorbar\": {\"outlinewidth\": 0, \"ticks\": \"\"}}, \"type\": \"scattercarpet\"}], \"scattergeo\": [{\"marker\": {\"colorbar\": {\"outlinewidth\": 0, \"ticks\": \"\"}}, \"type\": \"scattergeo\"}], \"scattergl\": [{\"marker\": {\"colorbar\": {\"outlinewidth\": 0, \"ticks\": \"\"}}, \"type\": \"scattergl\"}], \"scattermapbox\": [{\"marker\": {\"colorbar\": {\"outlinewidth\": 0, \"ticks\": \"\"}}, \"type\": \"scattermapbox\"}], \"scatterpolar\": [{\"marker\": {\"colorbar\": {\"outlinewidth\": 0, \"ticks\": \"\"}}, \"type\": \"scatterpolar\"}], \"scatterpolargl\": [{\"marker\": {\"colorbar\": {\"outlinewidth\": 0, \"ticks\": \"\"}}, \"type\": \"scatterpolargl\"}], \"scatterternary\": [{\"marker\": {\"colorbar\": {\"outlinewidth\": 0, \"ticks\": \"\"}}, \"type\": \"scatterternary\"}], \"surface\": [{\"colorbar\": {\"outlinewidth\": 0, \"ticks\": \"\"}, \"colorscale\": [[0.0, \"#0d0887\"], [0.1111111111111111, \"#46039f\"], [0.2222222222222222, \"#7201a8\"], [0.3333333333333333, \"#9c179e\"], [0.4444444444444444, \"#bd3786\"], [0.5555555555555556, \"#d8576b\"], [0.6666666666666666, \"#ed7953\"], [0.7777777777777778, \"#fb9f3a\"], [0.8888888888888888, \"#fdca26\"], [1.0, \"#f0f921\"]], \"type\": \"surface\"}], \"table\": [{\"cells\": {\"fill\": {\"color\": \"#EBF0F8\"}, \"line\": {\"color\": \"white\"}}, \"header\": {\"fill\": {\"color\": \"#C8D4E3\"}, \"line\": {\"color\": \"white\"}}, \"type\": \"table\"}]}, \"layout\": {\"annotationdefaults\": {\"arrowcolor\": \"#2a3f5f\", \"arrowhead\": 0, \"arrowwidth\": 1}, \"autotypenumbers\": \"strict\", \"coloraxis\": {\"colorbar\": {\"outlinewidth\": 0, \"ticks\": \"\"}}, \"colorscale\": {\"diverging\": [[0, \"#8e0152\"], [0.1, \"#c51b7d\"], [0.2, \"#de77ae\"], [0.3, \"#f1b6da\"], [0.4, \"#fde0ef\"], [0.5, \"#f7f7f7\"], [0.6, \"#e6f5d0\"], [0.7, \"#b8e186\"], [0.8, \"#7fbc41\"], [0.9, \"#4d9221\"], [1, \"#276419\"]], \"sequential\": [[0.0, \"#0d0887\"], [0.1111111111111111, \"#46039f\"], [0.2222222222222222, \"#7201a8\"], [0.3333333333333333, \"#9c179e\"], [0.4444444444444444, \"#bd3786\"], [0.5555555555555556, \"#d8576b\"], [0.6666666666666666, \"#ed7953\"], [0.7777777777777778, \"#fb9f3a\"], [0.8888888888888888, \"#fdca26\"], [1.0, \"#f0f921\"]], \"sequentialminus\": [[0.0, \"#0d0887\"], [0.1111111111111111, \"#46039f\"], [0.2222222222222222, \"#7201a8\"], [0.3333333333333333, \"#9c179e\"], [0.4444444444444444, \"#bd3786\"], [0.5555555555555556, \"#d8576b\"], [0.6666666666666666, \"#ed7953\"], [0.7777777777777778, \"#fb9f3a\"], [0.8888888888888888, \"#fdca26\"], [1.0, \"#f0f921\"]]}, \"colorway\": [\"#636efa\", \"#EF553B\", \"#00cc96\", \"#ab63fa\", \"#FFA15A\", \"#19d3f3\", \"#FF6692\", \"#B6E880\", \"#FF97FF\", \"#FECB52\"], \"font\": {\"color\": \"#2a3f5f\"}, \"geo\": {\"bgcolor\": \"white\", \"lakecolor\": \"white\", \"landcolor\": \"#E5ECF6\", \"showlakes\": true, \"showland\": true, \"subunitcolor\": \"white\"}, \"hoverlabel\": {\"align\": \"left\"}, \"hovermode\": \"closest\", \"mapbox\": {\"style\": \"light\"}, \"paper_bgcolor\": \"white\", \"plot_bgcolor\": \"#E5ECF6\", \"polar\": {\"angularaxis\": {\"gridcolor\": \"white\", \"linecolor\": \"white\", \"ticks\": \"\"}, \"bgcolor\": \"#E5ECF6\", \"radialaxis\": {\"gridcolor\": \"white\", \"linecolor\": \"white\", \"ticks\": \"\"}}, \"scene\": {\"xaxis\": {\"backgroundcolor\": \"#E5ECF6\", \"gridcolor\": \"white\", \"gridwidth\": 2, \"linecolor\": \"white\", \"showbackground\": true, \"ticks\": \"\", \"zerolinecolor\": \"white\"}, \"yaxis\": {\"backgroundcolor\": \"#E5ECF6\", \"gridcolor\": \"white\", \"gridwidth\": 2, \"linecolor\": \"white\", \"showbackground\": true, \"ticks\": \"\", \"zerolinecolor\": \"white\"}, \"zaxis\": {\"backgroundcolor\": \"#E5ECF6\", \"gridcolor\": \"white\", \"gridwidth\": 2, \"linecolor\": \"white\", \"showbackground\": true, \"ticks\": \"\", \"zerolinecolor\": \"white\"}}, \"shapedefaults\": {\"line\": {\"color\": \"#2a3f5f\"}}, \"ternary\": {\"aaxis\": {\"gridcolor\": \"white\", \"linecolor\": \"white\", \"ticks\": \"\"}, \"baxis\": {\"gridcolor\": \"white\", \"linecolor\": \"white\", \"ticks\": \"\"}, \"bgcolor\": \"#E5ECF6\", \"caxis\": {\"gridcolor\": \"white\", \"linecolor\": \"white\", \"ticks\": \"\"}}, \"title\": {\"x\": 0.05}, \"xaxis\": {\"automargin\": true, \"gridcolor\": \"white\", \"linecolor\": \"white\", \"ticks\": \"\", \"title\": {\"standoff\": 15}, \"zerolinecolor\": \"white\", \"zerolinewidth\": 2}, \"yaxis\": {\"automargin\": true, \"gridcolor\": \"white\", \"linecolor\": \"white\", \"ticks\": \"\", \"title\": {\"standoff\": 15}, \"zerolinecolor\": \"white\", \"zerolinewidth\": 2}}}, \"title\": {\"text\": \"Per-bin performance of DM Count on NWPU dataset\"}, \"xaxis\": {\"showgrid\": true, \"tickangle\": 40, \"title\": {\"text\": \"bin range\"}}, \"yaxis\": {\"gridcolor\": \"rgb(211,211,211)\", \"showgrid\": true, \"title\": {\"text\": \"Bin wise MAE\"}}},                        {\"responsive\": true}                    ).then(function(){\n",
       "                            \n",
       "var gd = document.getElementById('a20761d1-08ee-42f2-b3a4-5e7b08fa3029');\n",
       "var x = new MutationObserver(function (mutations, observer) {{\n",
       "        var display = window.getComputedStyle(gd).display;\n",
       "        if (!display || display === 'none') {{\n",
       "            console.log([gd, 'removed!']);\n",
       "            Plotly.purge(gd);\n",
       "            observer.disconnect();\n",
       "        }}\n",
       "}});\n",
       "\n",
       "// Listen for the removal of the full notebook cells\n",
       "var notebookContainer = gd.closest('#notebook-container');\n",
       "if (notebookContainer) {{\n",
       "    x.observe(notebookContainer, {childList: true});\n",
       "}}\n",
       "\n",
       "// Listen for the clearing of the current output cell\n",
       "var outputEl = gd.closest('.output');\n",
       "if (outputEl) {{\n",
       "    x.observe(outputEl, {childList: true});\n",
       "}}\n",
       "\n",
       "                        })                };                });            </script>        </div>"
      ]
     },
     "metadata": {},
     "output_type": "display_data"
    }
   ],
   "source": [
    "x_ax = np.linspace(0,len(bins),num = len(bins)+1)\n",
    "\n",
    "fig = go.Figure(layout=go.Layout(title=go.layout.Title(text=\"Per-bin performance of DM Count on NWPU dataset\"),\n",
    "                                 xaxis=go.layout.XAxis(title=go.layout.xaxis.Title(text=\"bin range\")),\n",
    "                                 yaxis=go.layout.YAxis(title=go.layout.yaxis.Title(text=\"Bin wise MAE\"))))\n",
    "fig.add_trace(go.Scatter(\n",
    "        x=arr_to_sc(m_r),\n",
    "        y=mean_bins(ub,bins)[to_keep][:,0],name ='No-binning',mode='markers',\n",
    "        error_y=dict(\n",
    "            type='data', # value of error bar given in data coordinates\n",
    "            array=mean_bins(ub,bins)[to_keep][:,1],\n",
    "            visible=True)\n",
    "    ))\n",
    "\n",
    "\n",
    "fig.add_trace(go.Scatter(\n",
    "        x=arr_to_sc(m_r),\n",
    "        y=mean_bins(rs,bins)[to_keep][:,0],name ='Bin Loss',mode='markers',\n",
    "        error_y=dict(\n",
    "            type='data', # value of error bar given in data coordinates\n",
    "            array=mean_bins(rs,bins)[to_keep][:,1],\n",
    "            visible=True)\n",
    "    ))\n",
    "\n",
    "fig.add_trace(go.Scatter(\n",
    "        x=arr_to_sc(m_r),\n",
    "        y=mean_bins(rr,bins)[to_keep][:,0],name ='Bin Loss (RR)',mode='markers',\n",
    "        error_y=dict(\n",
    "            type='data', # value of error bar given in data coordinates\n",
    "            array=mean_bins(rr,bins)[to_keep][:,1],\n",
    "            visible=True)\n",
    "    ))\n",
    "\n",
    "\n",
    "fig.update_xaxes(tickangle = 40)\n",
    "fig.update_layout(plot_bgcolor='rgba(0,0,0,0)',xaxis=dict(showgrid=True),yaxis=dict(showgrid=True,gridcolor='rgb(211,211,211)'),\n",
    "                  legend=dict(\n",
    "    yanchor=\"top\",\n",
    "    y=0.99,\n",
    "    xanchor=\"left\",\n",
    "    x=0.01\n",
    "), font=dict(size=15),margin=dict(l=20 , r=20, t=40, b=20))\n",
    "\n",
    "fig.show()"
   ]
  },
  {
   "cell_type": "code",
   "execution_count": 44,
   "metadata": {},
   "outputs": [
    {
     "name": "stdout",
     "output_type": "stream",
     "text": [
      "-----------------------------------------\n",
      " Mean and standard deviation of the data \n",
      "-----------------------------------------\n",
      "Method          Mean       Standard Dev\n",
      "Bin Loss        88.05      236.74    \n",
      "Bin Loss (RR)   76.68      204.95    \n",
      "No-binning      77.76      214.87    \n",
      "-----------------------------------------\n"
     ]
    }
   ],
   "source": [
    "print(\"-----------------------------------------\")\n",
    "print(\" Mean and standard deviation of the data \")\n",
    "print(\"-----------------------------------------\")\n",
    "## Python program to print the mean and std\n",
    "def pool_mean_std(txt,bins,to_keep,m_r,m_c):\n",
    "  # to_keep,m_r,m_c = \n",
    "    means = mean_bins(txt,bins)[to_keep][:,0]\n",
    "    stds =  mean_bins(txt,bins)[to_keep][:,1]\n",
    "\n",
    "    pooled_mean = 0\n",
    "    pooled_std = 0\n",
    "    sum_ni = 0\n",
    "    for i in range(len(m_c)):\n",
    "        pooled_mean += (means[i]*m_c[i])\n",
    "        pooled_std += (stds[i]**2 * m_c[i])\n",
    "        sum_ni += m_c[i]\n",
    "\n",
    "    pooled_mean = pooled_mean / sum_ni\n",
    "    pooled_std = math.sqrt(pooled_std/sum_ni)\n",
    "    \n",
    "    return pooled_mean, pooled_std\n",
    "\n",
    "\n",
    "\n",
    "\n",
    "\n",
    "\n",
    "\n",
    "d = {\n",
    "2: [\"Bin Loss\", round(pool_mean_std(rs,bins,to_keep,m_r,m_c)[0],2), round(pool_mean_std(rs,bins,to_keep,m_r,m_c)[1],2)],\n",
    "3: [\"Bin Loss (RR) \",round(pool_mean_std(rr,bins,to_keep,m_r,m_c)[0],2), round(pool_mean_std(rr,bins,to_keep,m_r,m_c)[1],2)],\n",
    "4: [\"No-binning\",round(pool_mean_std(ub,bins,to_keep,m_r,m_c)[0],2), round(pool_mean_std(ub,bins,to_keep,m_r,m_c)[1],2)]\n",
    "}\n",
    "print (\"{:<15} {:<10} {:<10}\".format(\"Method\", \"Mean\", 'Standard Dev'))\n",
    "for k, v in d.items():\n",
    "    r1, r2, r3 = v\n",
    "    print (\"{:<15} {:<10} {:<10}\".format(r1, r2, r3))\n",
    "print(\"-----------------------------------------\")"
   ]
  },
  {
   "cell_type": "code",
   "execution_count": null,
   "metadata": {},
   "outputs": [],
   "source": []
  },
  {
   "cell_type": "code",
   "execution_count": null,
   "metadata": {},
   "outputs": [],
   "source": []
  }
 ],
 "metadata": {
  "kernelspec": {
   "display_name": "Python 3",
   "language": "python",
   "name": "python3"
  },
  "language_info": {
   "codemirror_mode": {
    "name": "ipython",
    "version": 3
   },
   "file_extension": ".py",
   "mimetype": "text/x-python",
   "name": "python",
   "nbconvert_exporter": "python",
   "pygments_lexer": "ipython3",
   "version": "3.8.10"
  }
 },
 "nbformat": 4,
 "nbformat_minor": 4
}
